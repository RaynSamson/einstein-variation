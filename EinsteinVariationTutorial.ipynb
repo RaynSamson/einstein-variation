{
 "cells": [
  {
   "cell_type": "markdown",
   "id": "79f3de47-4823-4dd1-a095-8fb8e4abfdcf",
   "metadata": {},
   "source": [
    "# Einstein Variation Tutorial\n",
    "Once `EinsteinVariation.py` is downloaded in the same directory is this file (or whichever file you're working with), import the following:"
   ]
  },
  {
   "cell_type": "code",
   "execution_count": null,
   "id": "66c045fe-de77-471e-ba05-9fb0ea0e9176",
   "metadata": {},
   "outputs": [],
   "source": [
    "import sympy as sp\n",
    "import EinsteinVariation as ev"
   ]
  },
  {
   "cell_type": "markdown",
   "id": "5f3f0e75-b983-442a-9b83-a86162d1a5da",
   "metadata": {},
   "source": [
    "`sympy` is Python's symbolic computation library. You can read the full documentation [here.](https://docs.sympy.org/latest/tutorials/intro-tutorial/index.html) \n",
    "We want to begin by telling sympy which symbols to use as math variables (in contrast to regular Python variables, see the sympy documentation). The symbols we need for spherical coordinates are:"
   ]
  },
  {
   "cell_type": "code",
   "execution_count": null,
   "id": "a90cd447-bc0b-40db-9dec-687ea2fcf740",
   "metadata": {},
   "outputs": [],
   "source": [
    "t,r,T,P = sp.symbols('t r T P', real=True) "
   ]
  },
  {
   "cell_type": "markdown",
   "id": "e2fd0a2f-aa36-4e4a-8b49-26c97cab61db",
   "metadata": {},
   "source": [
    "We'll use upper case T and P to represent the Greek letters theta and phi respectively. The `real=True` parameter is optional but helps Python simplify longer expressions. Any other symbols we want to use will also have to be initialized this way:\n"
   ]
  },
  {
   "cell_type": "code",
   "execution_count": null,
   "id": "f1148ce2-58b9-4943-bb81-a3cf5b662d17",
   "metadata": {},
   "outputs": [],
   "source": [
    "#Kerr\n",
    "M, a = sp.symbols('M a', real=True, positive=True)"
   ]
  },
  {
   "cell_type": "markdown",
   "id": "be1df9a2-270e-4008-bfcd-3c08f351a8e9",
   "metadata": {},
   "source": [
    "We can now define (i) a list of coordinates and (ii) a covariant metric tensor. For Minkowski spacetime in spherical coordinates, we would do:"
   ]
  },
  {
   "cell_type": "code",
   "execution_count": null,
   "id": "f60c91d5-7997-427c-b1cf-74c72118b919",
   "metadata": {},
   "outputs": [],
   "source": [
    "Xu = sp.Array([t,r,T,P])  \n",
    "gll = sp.Array([[-1,0,0,0],[0,1,0,0],[0,0,r**2,0],[0,0,0,(r*sp.sin(T))**2]])  #inner brackets represent rows"
   ]
  },
  {
   "cell_type": "markdown",
   "id": "3c7ee875-78ad-4ab2-ae7e-88308d557966",
   "metadata": {},
   "source": [
    "In general, it is convenient to have all tensors stored as `sp.Array()` objects so that sympy recognizes them as such. This also allows higher-ranked tensors to be printed nicely. \n",
    "\n",
    "We can raise the indices on the metric using:"
   ]
  },
  {
   "cell_type": "code",
   "execution_count": null,
   "id": "267346ba-e7b3-4bbd-9357-747d75aee7d4",
   "metadata": {},
   "outputs": [],
   "source": [
    "ev.Inverse(gll)"
   ]
  },
  {
   "cell_type": "markdown",
   "id": "7f835cb9-3394-4efe-8063-ffa709117711",
   "metadata": {},
   "source": [
    "## Line Elements\n",
    "\n",
    "With our metric and coordinate system, a line element is obtained with:"
   ]
  },
  {
   "cell_type": "code",
   "execution_count": null,
   "id": "6fb487dd-b495-421f-8522-e7c17bf85d52",
   "metadata": {},
   "outputs": [],
   "source": [
    "ev.LineltFromMetric(gll,Xu)"
   ]
  },
  {
   "cell_type": "markdown",
   "id": "9a545f54-462a-4534-8dcd-acd97fae9af0",
   "metadata": {},
   "source": [
    "Of course, we can work the other way:"
   ]
  },
  {
   "cell_type": "code",
   "execution_count": null,
   "id": "143c10a5-19a1-426f-bf1e-4ddca0035501",
   "metadata": {},
   "outputs": [],
   "source": [
    "ds = ev.LineltFromMetric(gll,Xu)\n",
    "ev.MetricFromDS(ds,Xu)"
   ]
  },
  {
   "cell_type": "markdown",
   "id": "ffe6eac9-48af-4652-8cd5-753d5e759be7",
   "metadata": {},
   "source": [
    "## Christoffel Symbols\n",
    "\n",
    "Now for the main event. With a metric an list of coordinates, we can calculate the Christoffel symbol of the first kind with:"
   ]
  },
  {
   "cell_type": "code",
   "execution_count": null,
   "id": "983e7d90-3532-43a0-aef3-2389910e8635",
   "metadata": {},
   "outputs": [],
   "source": [
    "ev.GetCClll(gll,Xu)"
   ]
  },
  {
   "cell_type": "markdown",
   "id": "ed91e2f0-c9b1-4348-a4f6-89d2e319f0a4",
   "metadata": {},
   "source": [
    "The 'lll' indicates three lower indices. `ev.GetCCull(gll,Xu)` raises the first index to get the Christoffel symbol of the second kind. \n",
    "\n",
    "Individual entries can be obtained (keeping in mind that Python indices start at 0) in the familiar way of retrieving an index. The 1-2-2 component of the Christoffel symbol is obained with:"
   ]
  },
  {
   "cell_type": "code",
   "execution_count": null,
   "id": "a6c8ca6f-8730-4dbf-91cc-3328526d5861",
   "metadata": {},
   "outputs": [],
   "source": [
    "ev.GetCCull(gll,Xu)[1,2,2]"
   ]
  },
  {
   "cell_type": "markdown",
   "id": "3f14c6b0-ee3a-4a16-b92d-3bea46a3e771",
   "metadata": {},
   "source": [
    "## Riemann and Ricci Tensors\n",
    "\n",
    "`ev.GetRiemann(gll,Xu)` returns the fourth-rank Riemann tensor in up-low-low-low form. All entries are zero since the spacetime is flat:"
   ]
  },
  {
   "cell_type": "code",
   "execution_count": null,
   "id": "5935efde-3c19-4250-9abd-52685a76b1f7",
   "metadata": {},
   "outputs": [],
   "source": [
    "ev.GetRiemann(gll,Xu)"
   ]
  },
  {
   "cell_type": "markdown",
   "id": "de42617f-fd21-46ea-8176-6910cef8babf",
   "metadata": {},
   "source": [
    "On the surface of a sphere, however, space is not flat. To illustrate this, first note that the the metric and coordinates on this 2-D manifold are given by"
   ]
  },
  {
   "cell_type": "code",
   "execution_count": null,
   "id": "c38600c4-1bd6-404d-8420-72fb31a89b62",
   "metadata": {},
   "outputs": [],
   "source": [
    "sphere_surface_gll = sp.Array([[r**2, 0], [0, (r*sp.sin(T))**2]])\n",
    "sphere_surface_Xu = sp.Array([T, P])"
   ]
  },
  {
   "cell_type": "markdown",
   "id": "a948a745-f607-4716-84ec-352be5207eb7",
   "metadata": {},
   "source": [
    "For this surface Riemann tensor is:"
   ]
  },
  {
   "cell_type": "code",
   "execution_count": null,
   "id": "373412c1-2c83-4771-8e81-64d51aa4db1b",
   "metadata": {},
   "outputs": [],
   "source": [
    "ev.GetRiemann(sphere_surface_gll,sphere_surface_Xu)"
   ]
  },
  {
   "cell_type": "markdown",
   "id": "60ad910d-e81c-404c-8815-f94a6306ed10",
   "metadata": {},
   "source": [
    "`sympy` comes with an in-built tensor product and tensor contraction capability. We can thus lower an index on the Riemann tensor via"
   ]
  },
  {
   "cell_type": "code",
   "execution_count": null,
   "id": "c31f0dc7-7d9a-4079-a1af-06e3e15c5847",
   "metadata": {},
   "outputs": [],
   "source": [
    "Rulll = ev.GetRiemann(sphere_surface_gll,sphere_surface_Xu)\n",
    "prod = sp.tensorproduct(sphere_surface_gll,Rulll)\n",
    "Rllll = sp.tensorcontraction(prod,(0,2))\n",
    "Rllll"
   ]
  },
  {
   "cell_type": "markdown",
   "id": "3376df2b-4242-4597-a937-903f0ffca519",
   "metadata": {},
   "source": [
    "Here, `sp.tensorproduct(sphere_surface_gll,Rulll)` creates a rank-six tensor: two indices from the metric and four from the Riemann tensor. Calling `sp.tensorcontraction(prod,(0,2))` contracts the 0 and 2 indices of `prod`, resulting in a fully covariant form for the Riemann tensor.\n",
    "\n",
    "The Ricci tensor is a contraction of the Riemann tensor, and can be obtained using:\n"
   ]
  },
  {
   "cell_type": "code",
   "execution_count": null,
   "id": "1604306c-7201-415e-b973-a55b1fb644fb",
   "metadata": {},
   "outputs": [],
   "source": [
    "ev.GetRicci(sphere_surface_gll,sphere_surface_Xu)"
   ]
  },
  {
   "cell_type": "markdown",
   "id": "aaeceade-f124-4411-878d-3f71082c81d1",
   "metadata": {},
   "source": [
    "And the Ricci scalar is a contraction of this object with the metric. We can use the contraction method from earlier, or call the following function:"
   ]
  },
  {
   "cell_type": "code",
   "execution_count": null,
   "id": "95f5ad1d-751f-4b0b-a555-f80793559d6b",
   "metadata": {},
   "outputs": [],
   "source": [
    "ev.GetRicciS(sphere_surface_gll,sphere_surface_Xu)"
   ]
  },
  {
   "cell_type": "markdown",
   "id": "f3fc2b93-9e47-4a05-9923-ec74f30545c8",
   "metadata": {},
   "source": [
    "## Kerr Metric\n",
    "We can compute most of these expressions for the Kerr metric in Boyer-Lindquist coordinates. Use `ev.GetKerrgll(M,a,r,T)` (noting that we initialized `M` and `a` as math variables earlier) to get"
   ]
  },
  {
   "cell_type": "code",
   "execution_count": null,
   "id": "eea2e412-c5f4-4462-b7b7-ca4353af6441",
   "metadata": {},
   "outputs": [],
   "source": [
    "ev.GetKerrgll(M,a,r,T)"
   ]
  },
  {
   "cell_type": "markdown",
   "id": "4d97ac78-4b34-4f64-b498-97fe63c569b1",
   "metadata": {},
   "source": [
    "Unfortunately, Python is not equipped to simplify large expressions, so `ev.GetRiemmann()`, `ev.GetRicci()`, and `ev.GetRicciS()` will output incomprehensible results. They are all zero in disguise. You can make a special case assumption to get Python to output the right results:\n"
   ]
  },
  {
   "cell_type": "code",
   "execution_count": null,
   "id": "2f10fbad-73e7-4bd3-b74f-aa91401b6453",
   "metadata": {},
   "outputs": [],
   "source": [
    "kerrgll = ev.GetKerrgll(M,a,r,T).subs(a,0)\n",
    "kerrgll"
   ]
  },
  {
   "cell_type": "markdown",
   "id": "c1374d58-cff9-4161-89a0-275596d17a1d",
   "metadata": {},
   "source": [
    "Now the Riemann and Ricci tensors should be zero, as expected."
   ]
  }
 ],
 "metadata": {
  "kernelspec": {
   "display_name": "Python 3 (ipykernel)",
   "language": "python",
   "name": "python3"
  },
  "language_info": {
   "codemirror_mode": {
    "name": "ipython",
    "version": 3
   },
   "file_extension": ".py",
   "mimetype": "text/x-python",
   "name": "python",
   "nbconvert_exporter": "python",
   "pygments_lexer": "ipython3",
   "version": "3.10.9"
  }
 },
 "nbformat": 4,
 "nbformat_minor": 5
}
